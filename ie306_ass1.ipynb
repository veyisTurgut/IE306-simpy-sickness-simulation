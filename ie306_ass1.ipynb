{
 "cells": [
  {
   "cell_type": "markdown",
   "id": "14550823",
   "metadata": {},
   "source": [
    "Import necessary modules."
   ]
  },
  {
   "cell_type": "code",
   "execution_count": null,
   "id": "faafd07a",
   "metadata": {},
   "outputs": [],
   "source": [
    "import random\n",
    "import math\n",
    "import simpy\n",
    "import json\n",
    "from sys import argv"
   ]
  },
  {
   "cell_type": "markdown",
   "id": "43bf56ca",
   "metadata": {},
   "source": [
    "Calculate N. Last three digits of our student numbers are 210, 024 and 123."
   ]
  },
  {
   "cell_type": "code",
   "execution_count": null,
   "id": "9e7c9f17",
   "metadata": {},
   "outputs": [],
   "source": [
    "def get_N():\n",
    "    s = 210 + 24 + 123\n",
    "    if s > 1000:\n",
    "        return s\n",
    "    elif s > 10:\n",
    "        return s + 1000\n",
    "    else:\n",
    "        return s * 300\n",
    "\n",
    "\n",
    "N = get_N()"
   ]
  },
  {
   "cell_type": "markdown",
   "id": "11108600",
   "metadata": {},
   "source": [
    "K, Lambda, Mu1 and Mu2 are already given."
   ]
  },
  {
   "cell_type": "code",
   "execution_count": null,
   "id": "e2b846b6",
   "metadata": {},
   "outputs": [],
   "source": [
    "K = math.ceil(N / 12)\n",
    "\n",
    "Lambda = N / 300\n",
    "\n",
    "Mu1 = 1 / 6\n",
    "\n",
    "Mu2 = 1 / 10"
   ]
  },
  {
   "cell_type": "markdown",
   "id": "e24021dd",
   "metadata": {},
   "source": [
    "Function for calculating Mu3 as specified in the description.\n",
    "\n",
    "Mu3 will be set with that function before running the simulation."
   ]
  },
  {
   "cell_type": "code",
   "execution_count": null,
   "id": "3c853c39",
   "metadata": {},
   "outputs": [],
   "source": [
    "def get_Mu3():\n",
    "    r = random.uniform(1, 2)\n",
    "    return 1 / (1 / Mu1 * r)\n",
    "\n",
    "\n",
    "Mu3 = None  # we will set it before running the simulation"
   ]
  },
  {
   "cell_type": "markdown",
   "id": "671b611a",
   "metadata": {},
   "source": [
    "Event class. It represents events of the simulation."
   ]
  },
  {
   "cell_type": "code",
   "execution_count": null,
   "id": "a59513a6",
   "metadata": {},
   "outputs": [],
   "source": [
    "class Event:\n",
    "    def __init__(self, event_time, event_type, patient_index):\n",
    "        self.event_time = event_time\n",
    "        self.event_type = event_type\n",
    "        self.patient_index = patient_index\n",
    "        self.l = hospital.count + homes.count\n",
    "        self.l_hosp = hospital.count\n",
    "\n",
    "    def get_json(self):\n",
    "        return {\n",
    "            \"event_time\": self.event_time,\n",
    "            \"event_type\": self.event_type,\n",
    "            \"patient_index\": self.patient_index,\n",
    "            \"sick_people_count\": self.l,\n",
    "            \"hospital_count\": self.l_hosp\n",
    "        }"
   ]
  },
  {
   "cell_type": "markdown",
   "id": "d2a294ce",
   "metadata": {},
   "source": [
    "Define the variables that we are going to need."
   ]
  },
  {
   "cell_type": "code",
   "execution_count": null,
   "id": "752a7d5b",
   "metadata": {},
   "outputs": [],
   "source": [
    "Events = []              # list of events\n",
    "L = []                   # number of sick people at time t\n",
    "L_hosp = []              # number of people in the hospital at time t\n",
    "L_home = []              # number of people in their homes at time t\n",
    "Sickness_times = []      # a list of all sickness times\n",
    "project_json = []        # this will hold all the information of simulations\n",
    "\n",
    "env = None\n",
    "hospital = None; homes = None\n",
    "L_monitor_process = None; L_hosp_monitor_process = None; L_home_monitor_process = None"
   ]
  },
  {
   "cell_type": "markdown",
   "id": "c0183907",
   "metadata": {},
   "source": [
    " ### The class definition for the patients arriving at the modeled system. \n",
    " - Constructor: `__init__` function: When they are created, they immediatelly initiate a call (i.e. activate the call process) with `get_sick` function, `get_sick` function handles the sickness, waits for the next sickness, then calls itself\n",
    "     - `is_filler_iteration` means the initial run of get_sick function will emplace patient to the hospital immediately (for K/2 or K patients to fill hospital at t=0)\n",
    "     - `is_initial_iteration` means the initial run of get_sick function will just wait for the next sickness (for initial creation of the patients).\n",
    " - `get_sick` function: \n",
    "    - A patient stays at home with 80% probability. His/her healing time is exponentially distributed with Mu2.\n",
    "    - A patient goes to hospital with 20% probability.\n",
    "       - If s/he is accepted to hospital, his/her healing time is exponentially distributed with Mu1.\n",
    "       - If s/he is not accepted to hospital due to full capacity, his/her healing time is exponentially distributed with Mu3."
   ]
  },
  {
   "cell_type": "code",
   "execution_count": null,
   "id": "3313617c",
   "metadata": {},
   "outputs": [],
   "source": [
    "class Patient:\n",
    "    def __init__(self, index, is_filler_iteration=False, is_first_iteration=False):\n",
    "        self.index = index\n",
    "        if is_filler_iteration:\n",
    "            self.action = env.process(self.get_sick(is_filler_iteration=True))\n",
    "        elif is_first_iteration:\n",
    "            self.action = env.process(self.get_sick(is_first_iteration=True))\n",
    "        else:\n",
    "            Events.append(Event(env.now, \"arrival\", self.index))\n",
    "            self.action = env.process(self.get_sick())\n",
    "\n",
    "    def get_sick(self, is_filler_iteration=False, is_first_iteration=False):\n",
    "        if not is_first_iteration:\n",
    "            if is_filler_iteration:\n",
    "                with hospital.request() as req:\n",
    "                    yield req\n",
    "                    sickness_time = random.expovariate(Mu1)\n",
    "                    yield env.timeout(sickness_time)\n",
    "            else:\n",
    "                rand = random.random()\n",
    "                if rand < 0.8:\n",
    "                    with homes.request() as req:\n",
    "                        yield req\n",
    "                        sickness_time = random.expovariate(Mu2)\n",
    "                        yield env.timeout(sickness_time)\n",
    "                else:\n",
    "                    req = hospital.request()\n",
    "                    results = yield req | env.timeout(0)\n",
    "                    if req in results:\n",
    "                        sickness_time = random.expovariate(Mu1)\n",
    "                        yield env.timeout(sickness_time)\n",
    "                        hospital.release(req)\n",
    "                    else:\n",
    "                        hospital.release(req)\n",
    "                        with homes.request() as req2:\n",
    "                            yield req2\n",
    "                            sickness_time = random.expovariate(Mu3)\n",
    "                            yield env.timeout(sickness_time)\n",
    "            Events.append(Event(env.now, \"departure\", self.index))\n",
    "            Sickness_times.append(sickness_time)\n",
    "\n",
    "        inter_arrival = random.expovariate(Lambda)\n",
    "        yield env.timeout(inter_arrival)\n",
    "        Patient(self.index)"
   ]
  },
  {
   "cell_type": "markdown",
   "id": "0218411a",
   "metadata": {},
   "source": [
    "`N` patients are generated with exponential distribution. initial_patient_count determines the number of patients in hospital at the beginning."
   ]
  },
  {
   "cell_type": "code",
   "execution_count": null,
   "id": "49f39f2d",
   "metadata": {},
   "outputs": [],
   "source": [
    "def patient_generator(initial_patient_count=0):\n",
    "    for i in range(1, initial_patient_count+1):\n",
    "        Patient(i, is_filler_iteration=True)\n",
    "    for i in range(initial_patient_count+1, N+1):\n",
    "        Patient(i, is_first_iteration=True)\n",
    "        yield env.timeout(0)"
   ]
  },
  {
   "cell_type": "markdown",
   "id": "92118be6",
   "metadata": {},
   "source": [
    "Defining monitors. They will keep track of number of patient in the system, in the hospital, and in the homes, respectively"
   ]
  },
  {
   "cell_type": "code",
   "execution_count": null,
   "id": "8a65e7ae",
   "metadata": {},
   "outputs": [],
   "source": [
    "def L_monitor():\n",
    "    while True:\n",
    "        L.append(hospital.count + homes.count)\n",
    "        yield env.timeout(1)"
   ]
  },
  {
   "cell_type": "code",
   "execution_count": null,
   "id": "4420097c",
   "metadata": {},
   "outputs": [],
   "source": [
    "def L_hosp_monitor():\n",
    "    while True:\n",
    "        L.append(hospital.count)\n",
    "        yield env.timeout(1)"
   ]
  },
  {
   "cell_type": "code",
   "execution_count": null,
   "id": "73e23cc6",
   "metadata": {},
   "outputs": [],
   "source": [
    "def L_home_monitor():\n",
    "    while True:\n",
    "        L.append(homes.count)\n",
    "        yield env.timeout(1)"
   ]
  },
  {
   "cell_type": "markdown",
   "id": "33732855",
   "metadata": {},
   "source": [
    "Functions for running and resetting the simulation"
   ]
  },
  {
   "cell_type": "code",
   "execution_count": null,
   "id": "15256849",
   "metadata": {},
   "outputs": [],
   "source": [
    "def reset_variables():\n",
    "    global Events, L, L_hosp, L_home, Sickness_times\n",
    "\n",
    "    Events = []\n",
    "    L = []\n",
    "    L_hosp = []\n",
    "    L_home = []\n",
    "    Sickness_times = []\n",
    "\n",
    "\n",
    "def run_simulation(initial_patient_count=0, time_limit=None, event_limit=None):\n",
    "    global env, hospital, homes, L_monitor_process, L_hosp_monitor_process, L_home_monitor_process\n",
    "\n",
    "    env = simpy.Environment()\n",
    "    hospital = simpy.Resource(env, capacity=K)  # Hospital has K capacity.\n",
    "    homes = simpy.Resource(env, capacity=int(1e100))  # Homes has infinite capacity.\n",
    "    env.process(patient_generator(initial_patient_count))\n",
    "    L_monitor_process = env.process(L_monitor())\n",
    "    L_hosp_monitor_process = env.process(L_hosp_monitor())\n",
    "    L_home_monitor_process = env.process(L_home_monitor())\n",
    "    if time_limit is not None:\n",
    "        env.run(until=time_limit)\n",
    "    if event_limit is not None:\n",
    "        while len(Events) < event_limit:\n",
    "            env.step()"
   ]
  },
  {
   "cell_type": "markdown",
   "id": "8ab76f8d",
   "metadata": {},
   "source": [
    "Helper functions for formatting the simulation data as a Python dictionary"
   ]
  },
  {
   "cell_type": "code",
   "execution_count": null,
   "id": "4638c82c",
   "metadata": {},
   "outputs": [],
   "source": [
    "def get_events_json():\n",
    "    return list(map(lambda e: e.get_json(), Events))\n",
    "\n",
    "\n",
    "def get_simulation_json():\n",
    "    return {\n",
    "        \"events\": get_events_json(),\n",
    "        \"lrpohbe\": L_hosp.count(0) / len(L_hosp) if len(L_hosp) != 0 else None,\n",
    "        \"anoobith\": sum(L_hosp) / len(L_hosp) if len(L_hosp) != 0 else None,\n",
    "        \"apospitp\": sum(L) / len(L) if len(L) != 0 else None,\n",
    "        \"tast\": sum(Sickness_times) / len(Sickness_times) if len(Sickness_times) != 0 else None\n",
    "    }\n"
   ]
  },
  {
   "cell_type": "markdown",
   "id": "b733a3eb",
   "metadata": {},
   "source": [
    "Running the simulation for 50 events"
   ]
  },
  {
   "cell_type": "code",
   "execution_count": null,
   "id": "63d330d3",
   "metadata": {},
   "outputs": [],
   "source": [
    "random.seed(1234)\n",
    "Mu3 = get_Mu3()\n",
    "reset_variables()\n",
    "run_simulation(event_limit=50)\n",
    "project_json.append({\n",
    "    \"event_limit\": 50,\n",
    "    \"initial_patient_count\": 0,\n",
    "    \"time_limit\": None,\n",
    "    \"seed\": 1234,\n",
    "    \"results\": get_simulation_json()\n",
    "})"
   ]
  },
  {
   "cell_type": "markdown",
   "id": "53e6ee41",
   "metadata": {},
   "source": [
    "Running the simulation for combinations of three different inital patient counts, three different time limits, and three different seeds"
   ]
  },
  {
   "cell_type": "code",
   "execution_count": null,
   "id": "a39e2ec3",
   "metadata": {},
   "outputs": [],
   "source": [
    "for initial_patient_count in (0, math.floor(K/2), K):\n",
    "    for time_limit in (1000, 10000, 100000):\n",
    "        for seed in (123, 456, 789):\n",
    "            random.seed(seed)\n",
    "            Mu3 = get_Mu3()\n",
    "            reset_variables()\n",
    "            run_simulation(initial_patient_count=initial_patient_count, time_limit=time_limit)\n",
    "            project_json.append({\n",
    "                \"event_limit\": None,\n",
    "                \"initial_patient_count\": initial_patient_count,\n",
    "                \"time_limit\": time_limit,\n",
    "                \"seed\": seed,\n",
    "                \"results\": get_simulation_json()\n",
    "            })"
   ]
  },
  {
   "cell_type": "markdown",
   "id": "eb31f9b7",
   "metadata": {},
   "source": [
    "Finally, we are writing the results to the file whose path is specified in command line argument"
   ]
  },
  {
   "cell_type": "code",
   "execution_count": null,
   "id": "5d78d834",
   "metadata": {},
   "outputs": [],
   "source": [
    "json.dump(project_json, open(argv[1], \"w+\"), indent=4)"
   ]
  }
 ],
 "metadata": {
  "kernelspec": {
   "display_name": "Python 3",
   "language": "python",
   "name": "python3"
  },
  "language_info": {
   "codemirror_mode": {
    "name": "ipython",
    "version": 3
   },
   "file_extension": ".py",
   "mimetype": "text/x-python",
   "name": "python",
   "nbconvert_exporter": "python",
   "pygments_lexer": "ipython3",
   "version": "3.8.2"
  }
 },
 "nbformat": 4,
 "nbformat_minor": 5
}
